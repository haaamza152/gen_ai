{
 "cells": [
  {
   "cell_type": "code",
   "execution_count": 25,
   "metadata": {},
   "outputs": [],
   "source": [
    "from dotenv import load_dotenv\n",
    "from langchain.chat_models import ChatOpenAI\n",
    "from langchain_text_splitters import RecursiveCharacterTextSplitter\n",
    "from langchain.docstore.document import Document\n",
    "from pypdf import PdfReader\n",
    "load_dotenv()\n",
    "import os"
   ]
  },
  {
   "cell_type": "code",
   "execution_count": 26,
   "metadata": {},
   "outputs": [],
   "source": [
    "MODEL = 'gpt-3.5-turbo'"
   ]
  },
  {
   "cell_type": "code",
   "execution_count": 27,
   "metadata": {},
   "outputs": [],
   "source": [
    "model = ChatOpenAI(\n",
    "    openai_api_key = os.environ[\"OPENAI_API_KEY\"],\n",
    "    model=MODEL\n",
    ")"
   ]
  },
  {
   "cell_type": "code",
   "execution_count": 49,
   "metadata": {},
   "outputs": [],
   "source": [
    "reader = PdfReader(\"/home/hamza/Documents/RAG/documents/crime-and-punishment.pdf\")\n",
    "text = \"\"\n",
    "texts = []\n",
    "parts = [{\"min\":6, \"max\":132}, {\"min\":132, \"max\":279}, {\"min\":280, \"max\":396}, {\"min\":397, \"max\":507}, {\"min\":508, \"max\":612}, {\"min\":612, \"max\":744}]\n",
    "for j in range(len(parts)):\n",
    "    text = \"\"\n",
    "    for i in range(parts[j]['min'], parts[j]['max']):\n",
    "        page = reader.pages[i]\n",
    "        text+=page.extract_text()\n",
    "    texts.append(text)\n"
   ]
  },
  {
   "cell_type": "code",
   "execution_count": 65,
   "metadata": {},
   "outputs": [],
   "source": [
    "text_spliter = RecursiveCharacterTextSplitter(\n",
    "   chunk_size = 50000,\n",
    "   chunk_overlap=0\n",
    ")"
   ]
  },
  {
   "cell_type": "code",
   "execution_count": 109,
   "metadata": {},
   "outputs": [],
   "source": [
    "import time\n",
    "summaries = ''\n",
    "\n",
    "for j in range(len(texts)):\n",
    "    summary= ''\n",
    "    content = text_spliter.split_text(texts[j])\n",
    "    docs = [Document(page_content=t) for t in content[:6]]\n",
    "    for i in range(len(docs)):\n",
    "        prompt = f\"write a comprehensive summary for : {docs[i].page_content}\"\n",
    "\n",
    "\n",
    "        from langchain.schema import (\n",
    "            HumanMessage\n",
    "        )\n",
    "\n",
    "        messages = [\n",
    "            HumanMessage(content=prompt),\n",
    "        ]\n",
    "        res = model(messages)\n",
    "        summary+=res.content\n",
    "    summaries+=summary\n",
    "    time.sleep(20)"
   ]
  },
  {
   "cell_type": "code",
   "execution_count": 130,
   "metadata": {},
   "outputs": [],
   "source": [
    "prompt = f\"write a comprehensive summary of two thousands words from these summaries of parts of the book: {summaries[3000:]}\"\n",
    "\n",
    "\n",
    "from langchain.schema import (\n",
    "    SystemMessage,\n",
    "    HumanMessage,\n",
    "    AIMessage\n",
    ")\n",
    "\n",
    "messages = [\n",
    "    HumanMessage(content=prompt),\n",
    "]\n",
    "res = model(messages)"
   ]
  },
  {
   "cell_type": "code",
   "execution_count": 131,
   "metadata": {},
   "outputs": [
    {
     "data": {
      "text/plain": [
       "'write a comprehensive summary of two thousands words from these summaries of parts of the book: . She was gone. She was gone. She was gone. \\nShe was gone. She was gone. She was gone. She was gone. \\nShe was gone. She was gone. She was gone. She was gone. \\nShe was gone. She was gone. She was gone. She was gone. \\nShe was gone. She was gone. She was gone. She was gone. \\nShe was gone. She was gone. She was gone. She was gone. \\nShe was gone. She was gone. She was gone. She was gone. \\nShe was gone. She was gone. She was gone. She was gone. \\nShe was gone. She was gone. She was gone. She was gone. \\nShe was gone. She was gone. She was gone. She was gone.kolnikov is tormented by his mother\\'s letter, which reveals that his sister, Dounia, is engaged to marry a man named Pyotr Petrovitch Luzhin. Raskolnikov is filled with bitterness and anger towards this arrangement, as he believes it to be a marriage of convenience rather than love. He dissects his mother\\'s letter and analyzes the motivations behind Dounia\\'s decision to marry a man she does not love. Raskolnikov is convinced that Dounia is sacrificing her own happiness for the well-being of their family, and he is frustrated by this selfless act. He is also critical of Mr. Luzhin, whom he sees as a manipulative and insincere man. Despite his anger and frustration, Raskolnikov acknowledges Dounia\\'s strength and selflessness, and he struggles with his conflicting emotions towards her decision. He grapples with the idea of sacrificing one\\'s own happiness for the sake of others, and he questions the morality of such a choice. Ultimately, Raskolnikov is torn between his loyalty to his family and his desire for Dounia to find true happiness and fulfillment in her life.be wiped out by thousands of good deeds? One death, \\nand a hundred lives in exchange—it’s simple arithmetic!’\\nThe officer listened in silence. They were talking about \\nthe old pawnbroker. Raskolnikov had a sudden desire to say \\nsomething exceptionally pleasant to them all. He thought \\nof something and looked towards the door. Just at that \\nmoment Lizaveta came in with a large bundle of sheets in \\nher arms. She had been in the country, and a visitor had \\nbrought her some peas; she had put them in the pocket of \\nher apron, and had not thought about them again. She went \\nup to the huckster and took the money for the things she \\nhad not sold.\\n‘Have you been at mother’s? Have you finished?’ Kater -\\nina Ivanovna asked with some alarm.\\n‘No, not yet; I have to see Vassily Lukitch.’\\n‘Did you find a supper for me?’\\n‘Yes, we’ll look after you.’\\n‘I must go now,’ said Raskolnikov. ‘I will look in again.’\\n‘He’s a very nice young man,’ said the huckster’s wife to \\nLizaveta. ‘He has not been here once since Lizaveta came. \\nHe ought to be more punctual. He has lost his lessons and \\nhis clothes are worth a great deal. But you are always kind 101to him; you have taken to him so,’ she went on, add -\\ning even more complacently: ‘He is a soft, amiable man, \\nbut he is too short for his age and no scholar.’\\n‘He is a very busy man,’ said Lizaveta. ‘Going to see you, \\nsister?’\\n‘Yes, I have to. You can come with me if you like. Don’t \\ngo away!’\\n‘I’ll stand here till you come out,’ said Lizaveta. She was \\na complete slave and went in fear and trembling of her sis -\\nter, who made her work day and night, and even beat her.\\nRaskolnikov had just left the department of the investi -\\ngating lawyer. He found out very little about him, except \\nthat he was a man of property, that he had come into the \\nroom in the morning in a cab, and that his interests were in \\nthe safe keeping of a lawyer named Wachter, of whom noth -\\ning was known except that he was a former lawyer and had \\nbeen in business for a long time. Raskolnikov could not \\nhelp thinking of the man in the cab, who had told him all \\nthis, and could not get the thought out of his mind. It was \\nvery strange. But he was most struck by the story of the \\npawnbroker Alyona Ivanovna. He had heard of the old \\nwoman’s reputation, but he had never thought of her as \\nbeing in any way connected with him. He came away from \\nthe lawyer’s office with a heavy heart, feeling more dis -\\nturbed than ever. He decided to call on Lizaveta.In this excerpt from Fyodor Dostoevsky\\'s novel \"Crime and Punishment,\" the protagonist, Raskolnikov, is consumed by a moral dilemma after committing a heinous crime. He justifies the murder of an old woman as a means to do good for society, believing that her death will save thousands from corruption and decay. However, his rationalization is challenged when he overhears a conversation in a tavern about the value of one life versus many. This conversation triggers a series of events that lead Raskolnikov to commit the murder, but he is overcome with guilt and fear afterwards.\\n\\nAfter killing the old woman, Raskolnikov is haunted by his actions and struggles to come to terms with the consequences. He is plagued by paranoia and fear, constantly on edge as he tries to evade suspicion. He goes to great lengths to cover up his crime, washing away the blood and hiding the murder weapon. As he navigates the aftermath of his crime, he is consumed by a sense of dread and desperation.\\n\\nThe excerpt also highlights Raskolnikov\\'s internal turmoil and psychological unraveling. As he grapples with the weight of his actions, he is plagued by delusions and irrational thoughts. He is driven to the brink of madness, questioning his own sanity and morality. Despite his attempts to rationalize his crime, he is ultimately consumed by guilt and regret.\\n\\nOverall, the excerpt delves into themes of morality, guilt, and the psychological impact of committing a heinous act. It portrays the inner turmoil of a man who is torn between his beliefs and his conscience, ultimately leading to a profound exploration of the human psyche and the consequences of one\\'s actions.what?’\\n‘I don’t know,’ muttered Raskolnikov, feeling a sudden wave of confusion and agitation.\\nRazumihin, seeing his friend\\'s distress, tried to calm him down and convince him to stay and talk. After some hesitation, Raskolnikov finally agreed to stay, and the two friends sat down to talk.\\n\\nDuring their conversation, Raskolnikov\\'s inner turmoil and conflicting emotions became evident. He struggled to make sense of his recent actions and the overwhelming guilt he felt. Despite Razumihin\\'s attempts to comfort and support him, Raskolnikov\\'s inner demons continued to haunt him.\\n\\nAs the evening went on, Raskolnikov\\'s mental state deteriorated further, and he became increasingly agitated and paranoid. He was plagued by thoughts of his recent actions and the consequences of his decisions. Despite Razumihin\\'s efforts to help him, Raskolnikov was unable to find peace of mind.\\n\\nIn the end, Raskolnikov left Razumihin\\'s apartment, still consumed by his inner turmoil and unable to find solace. The events of the day had only served to deepen his sense of guilt and isolation, leaving him in a state of despair. of them are illusions. Lies, you mean. They say, ‘This is the murderer,’ but what if it’s not? What if it’s someone else? What if it’s all a setup? That’s what we have to prove. And I’ll prove it, even if I have to turn the whole world upside down!’\\n\\nRaskolnikov finally looked up from the flower and spoke, his voice barely audible. ‘I remember Lizaveta,’ he said. ‘She was a kind woman. She didn’t deserve to die.’\\n\\nZossimov and Razumihin exchanged a glance, and then Zossimov said, ‘Well, we will leave you now, Raskolnikov. Get some rest, and we will come back tomorrow. Take care of yourself.’\\n\\nAs they left, Raskolnikov lay back on the sofa, staring at the ceiling. The events of the day swirled in his mind, and he couldn’t shake the feeling of unease. The investigation, the accusations, the lies – it all weighed heavily on him. But deep down, he knew he had a plan. He had to prove his innocence, no matter the cost. And as he drifted off to sleep, a determination settled in his heart. He would not rest until he had uncovered the truth.The summary provided seems to be a mixture of the original text and personal opinions. A more concise summary of the text could be as follows:\\n\\nThe passage follows the story of a murder investigation involving a painter named Nikolay who is suspected of killing a pawnbroker. Dushkin, a peasant, brings a jeweller\\'s case containing gold earrings to the police, leading to suspicion falling on Nikolay. The details of the case are discussed by several characters, including a man named Pyotr Petrovitch, who is engaged to marry his sister. Raskolnikov, the protagonist, becomes agitated and confronts Pyotr Petrovitch before leaving to wander the streets. He encounters a group of women and joins them briefly before continuing on his way. \\n\\nRaskolnikov\\'s inner turmoil and erratic behavior are evident throughout the passage, as he grapples with his own thoughts and emotions. The mention of various crimes and incidents in the city adds to the overall sense of unease and tension in the narrative. The passage ends with Raskolnikov seeking solitude in a restaurant, reading newspapers to distract himself from his inner turmoil. priest administered the sacrament, and Marmeladov breathed his last breath. Katerina Ivanovna collapsed in grief, while Raskolnikov stood by, feeling a sense of guilt and responsibility for the man\\'s death. The doctor confirmed that there was no hope for Marmeladov, and the priest gave him his last rites.\\n\\nDespite the chaos and tragedy, Raskolnikov\\'s mind was preoccupied with his own inner turmoil. He struggled with feelings of apathy and indifference, questioning his actions and motives. The scene of Marmeladov\\'s death served as a stark reminder of the consequences of one\\'s choices and the impact they can have on others.\\n\\nAs the night wore on, Raskolnikov found himself reflecting on the events of the evening and the choices he had made. The guilt and remorse weighed heavily on him, and he was left grappling with the consequences of his actions. The night ended with a sense of unease and uncertainty, as Raskolnikov\\'s inner turmoil continued to haunt him.In this part of the story, Raskolnikov has just come from a deathbed where he gave all his money to a dying clerk. He is feeling weak and emotional, and when he meets Razumihin, he confesses that he has been kissed by someone who would still show him kindness even if he had committed a crime. As they reach Raskolnikov\\'s apartment, they see a light in his room, which surprises them both. When they enter the room, they find Raskolnikov\\'s mother and sister waiting for him. They had been worried sick about him and had been weeping for the past hour and a half. Raskolnikov is overcome with emotion and faints. Razumihin rushes to his side and reassures the family that Raskolnikov is just experiencing a fainting spell and is actually much better according to the doctor. The family is relieved and grateful to Razumihin for his care of Raskolnikov. This unexpected reunion with his family brings a sense of joy and relief to Raskolnikov, despite his overwhelming emotions and weakness.Razumihin reassures Pulcheria Alexandrovna that she should follow Avdotya Romanovna\\'s decision regarding the situation with Pyotr Petrovitch and Raskolnikov. He advises them to act on Avdotya Romanovna\\'s choice as she made her decision quickly, showing her trust in her brother\\'s character. He also mentions that Raskolnikov\\'s behavior towards Pyotr Petrovitch and the note from Pyotr Petrovitch himself suggest that Raskolnikov should not be present during their meeting. Pulcheria Alexandrovna is worried about the situation and seeks Razumihin\\'s opinion, showing her concern for her son\\'s well-being. The conversation also reveals that Pyotr Petrovitch has requested Raskolnikov not be present during their meeting, causing further distress to Pulcheria Alexandrovna. Overall, the discussion highlights the complex dynamics between the characters and the challenges they face in navigating their relationships and decisions. to herself as she walked. She felt a strange mix of fear, excitement, and anticipation at the thought of meeting Raskolnikov again. And as she walked, she couldn\\'t shake off the feeling that her life was about to change in ways she couldn\\'t even imagine. \\n\\nMeanwhile, Raskolnikov and Razumihin hurried to find Porfiry Petrovitch, eager to resolve the issue of the pawned items. Raskolnikov felt a sense of relief and excitement at the prospect of meeting the investigator, hoping to settle the matter quickly. And as they walked, Razumihin couldn\\'t contain his enthusiasm at the thought of introducing his friend to Porfiry, believing that it would be a momentous occasion. \\n\\nAs they headed towards Porfiry\\'s place, Raskolnikov couldn\\'t help but feel a sense of anticipation and uncertainty about what lay ahead. But deep down, he knew that whatever the outcome, it would be a turning point in his life. And with each step they took, the future seemed to unfold before them, filled with possibilities and unknown adventures.In this excerpt from Fyodor Dostoevsky\\'s novel \"Crime and Punishment,\" the protagonist, Raskolnikov, finds himself in a tense and complex conversation with Porfiry Petrovitch, a police investigator. Raskolnikov, a highly intellectual and introspective individual, presents his controversial ideas about crime and morality, suggesting that extraordinary individuals may have the right to commit crimes for the greater good. Porfiry challenges Raskolnikov\\'s beliefs, leading to a discussion about conscience, morality, and the nature of exceptional individuals.\\n\\nAs the conversation unfolds, Porfiry subtly probes Raskolnikov about his article on crime and his views on extraordinary individuals. Raskolnikov\\'s responses are calculated and defiant, showcasing his intellectual prowess and his willingness to engage in philosophical debates. The tension between the characters is palpable, with Razumihin, Raskolnikov\\'s friend, adding to the dynamic with his skepticism and concern.\\n\\nThroughout the exchange, Raskolnikov displays a mix of arrogance, vulnerability, and defiance, revealing the inner turmoil and complexity of his character. Porfiry\\'s probing questions and subtle insinuations add layers of tension and intrigue to the scene, keeping the reader engaged and questioning the true motives and intentions of the characters.\\n\\nOverall, this excerpt delves into deep philosophical and moral questions, exploring themes of conscience, morality, and the nature of exceptional individuals. It sets the stage for the psychological and ethical dilemmas that Raskolnikov grapples with throughout the novel, making it a compelling and thought-provoking read.In this excerpt from Fyodor Dostoevsky\\'s novel Crime and Punishment, the tension and paranoia surrounding the protagonist, Raskolnikov, continue to build as he grapples with the aftermath of the murders he has committed. The passage begins with Razumihin and Raskolnikov discussing their suspicions of being under surveillance by the police. Razumihin tries to convince Raskolnikov that he is being targeted, but Raskolnikov remains defiant and dismissive.\\n\\nAs they walk to Bakaleyev’s lodgings, where Raskolnikov’s family is waiting, they continue their heated discussion. Razumihin is concerned about Raskolnikov\\'s well-being and tries to reassure him, but Raskolnikov\\'s mind is consumed by his own thoughts and paranoia. He is convinced that the police are trying to trap him, but he remains defiant and skeptical of their tactics.\\n\\nUpon reaching the lodgings, Raskolnikov\\'s behavior becomes increasingly erratic and he abruptly leaves, feeling overwhelmed by his own thoughts and fears. He wanders the streets in a daze, haunted by the guilt and paranoia of his crimes. He encounters a mysterious man who accuses him of being a murderer, further adding to his sense of unease and dread.\\n\\nThe passage is filled with Raskolnikov\\'s internal turmoil and self-doubt, as he grapples with the consequences of his actions and struggles to maintain his composure. The tension and suspense in the narrative continue to escalate, drawing the reader deeper into Raskolnikov\\'s troubled psyche.that Pyotr Petrovitch is more concerned about the potential inheritance than the feelings and well-being of Dounia and her family. Pulcheria Alexandrovna and Dounia stand up to him, asserting their independence and refusing to be manipulated by his words and actions. Raskolnikov also confronts Luzhin, calling out his lies and manipulation. The tension between the characters is palpable as they navigate through the power dynamics and conflicts within their relationships. Despite the discord, Dounia remains resolute in her decision to prioritize her family and her own values over the demands of Pyotr Petrovitch. The chapter ends with a sense of unresolved conflict and the characters at odds with each other. him, and let him go.’\\nSonia closed the book and sat back, her face glowing with \\nemotions. Raskolnikov sat in silence, deeply moved by her \\nreading and the intensity of her belief. He felt a strange \\ntug at his heart, a stirring of something long dormant within \\nhim.\\n‘Thank you, Sonia,’ he said softly, almost reverently. ‘You \\nhave read to me. You have shown me faith and belief, even \\nin the face of despair. You have given me a glimpse of \\nsomething greater than myself. Thank you.’\\nSonia looked at him with tears in her eyes, her heart filled \\nwith a sense of peace and hope. In that moment, they were \\nconnected by a bond of understanding and shared belief. \\nRaskolnikov felt a sense of gratitude towards her, a feeling \\nof connection and compassion that he had not experienced \\nin a long time.\\nAs they sat in silence, the room filled with a sense of \\npeace and lightness. For a brief moment, the weight of their \\nsuffering seemed to lift, replaced by a glimmer of hope and \\nfaith. And in that moment, they both knew that they were \\nnot alone in their struggles, that there was something \\ngreater guiding them, a force of love and compassion that \\ntranscended their individual pain. And in that moment, they \\nboth found solace and strength in each other’s presence.Porfiry Petrovitch, confused and bewildered, continues to question Nikolay as Raskolnikov watches in shock. Nikolay confesses to being the murderer of Alyona Ivanovna and her sister Lizaveta Ivanovna, claiming that darkness came over him. Porfiry questions him further, and Nikolay insists on giving his evidence. The atmosphere in the room is tense and charged with emotion as the unexpected confession unfolds. Raskolnikov, still reeling from the turn of events, watches on in disbelief as the true murderer is revealed. The chapter ends with a sense of suspense and anticipation as the pieces of the puzzle start to come together.In this excerpt from Fyodor Dostoevsky’s novel Crime and Punishment, the protagonist, Raskolnikov, finds himself in a tense and complicated situation involving the murder of two women with an axe. As he is questioned by the detective Porfiry, Raskolnikov becomes entangled in a web of suspicion and deceit. Nikolay, another character, confesses to the crime, but Raskolnikov realizes that there may be more to the situation than meets the eye.\\n\\nPorfiry, the detective, manipulates and interrogates Raskolnikov, playing mind games with him in an attempt to uncover the truth. Raskolnikov, feeling both fear and defiance, confronts Porfiry and questions his methods. As the tension between the two characters escalates, Raskolnikov realizes that his fate hangs in the balance.\\n\\nHowever, a surprising turn of events occurs when a man from the previous day’s encounter reveals himself to be the one who informed Porfiry about Raskolnikov’s visit to the police station. This revelation sheds new light on the situation and gives Raskolnikov a glimmer of hope that he may not be as fully exposed as he had feared.\\n\\nAs Raskolnikov navigates the twists and turns of the investigation, he grapples with his own guilt and the consequences of his actions. The excerpt ends with Raskolnikov feeling a renewed sense of determination and resilience, as he prepares to face the challenges ahead.\\n\\nOverall, this passage delves into themes of guilt, redemption, and the complexities of human nature, as Raskolnikov struggles to come to terms with his past actions and the consequences that follow.could think of. She explained that Pyotr Petrovitch had been unable to attend the funeral due to unavoidable circumstances and that he had sent his apologies. Katerina Ivanovna, in her excitement, continued to chatter and make jokes at the expense of her guests, particularly the landlady, whom she believed to be trying to patronize her. Despite her lively demeanor, her coughing fits and the blood on her handkerchief indicated her deteriorating health.\\n\\nAs the dinner progressed, Katerina Ivanovna’s behavior became more erratic, alternating between fits of laughter and coughing. She expressed her disappointment at the absence of certain guests, particularly the ‘genteel lady and her daughter’ and Pyotr Petrovitch, whom she had praised for his generosity and connections. She also mocked the other guests, calling them ‘sweeps’ and ‘Poles,’ and making jokes about the landlady’s silver spoons.\\n\\nDespite her high spirits, it was evident that Katerina Ivanovna’s health was rapidly declining, and her behavior was a mix of pride, vanity, and desperation. She seemed to be clinging to her dignity and social status, even as her circumstances deteriorated. The dinner, which was meant to be a gesture of respect and hospitality, turned into a chaotic and uncomfortable affair, with Katerina Ivanovna’s erratic behavior overshadowing the event.to find justice. He then went on to tell her about his confrontation with Luzhin and how he had defended her. He explained the motive behind Luzhin\\'s actions and how it was all a ploy to separate him from his family. He expressed his agitation and fear about having to tell her who had killed Lizaveta. Despite his initial bravado, he felt a sudden impotence and fear when faced with the inevitable task of revealing the truth to her.\\n\\nSonia expressed her gratitude to Raskolnikov for his support and acknowledged that she relied on him. She asked him not to talk to her as he did the day before, as she was already dealing with enough misery. Raskolnikov, feeling her distress, assured her that he wouldn\\'t bring up the topic and tried to comfort her.\\n\\nSonia shared her regret about leaving Katerina Ivanovna\\'s house and expressed her concern about what was happening there. Raskolnikov reassured her and explained the current situation. He then left her, feeling the weight of the impending conversation about Lizaveta\\'s death. Despite his fear and apprehension, he knew he had to tell her the truth.in the middle of the street, with a crowd around us, the children crying, Katerina Ivanovna frantic and desperate. Raskolnikov tries to reason with her, to no avail. She is determined to beg in the streets, believing it to be the only way to support her family after her husband\\'s death.\\n\\nSonia follows, trying to convince Katerina Ivanovna to go home, but she is too far gone in her delusions. Raskolnikov is torn between feeling sorry for Katerina Ivanovna\\'s plight and being frustrated by her actions.\\n\\nAs the scene unfolds, it becomes clear that Katerina Ivanovna is suffering from a mental breakdown. Her actions are erratic and irrational, driven by desperation and a sense of hopelessness. Despite Raskolnikov\\'s attempts to intervene, she refuses to listen and continues to spiral further into madness.\\n\\nThe sight of the family in such distress affects Raskolnikov deeply. He is torn between wanting to help and feeling powerless to do so. The scene is a stark reminder of the harsh realities of poverty and mental illness, and the impact they can have on individuals and families.\\n\\nAs the chaos of the street scene continues, Raskolnikov is left to grapple with his own emotions and the weight of the suffering he witnesses. The scene serves as a dramatic and poignant moment in the novel, highlighting the themes of poverty, desperation, and the toll of mental illness on individuals and their loved ones.In this passage from Fyodor Dostoevsky\\'s novel Crime and Punishment, Katerina Ivanovna, a destitute widow, is desperately trying to find a way to make money for her children through a street performance. She enlists the help of her children and urges them to sing in French to appear more genteel to passersby. However, the situation quickly escalates as a policeman intervenes, leading to a chaotic scene where Katerina Ivanovna collapses and eventually dies from consumption. Sonia, another character, is deeply affected by Katerina Ivanovna\\'s death and vows to take care of her children. Svidrigaïlov, a mysterious figure, offers to help financially and expresses a strange interest in Raskolnikov, the novel\\'s protagonist. This passage captures the desperation and tragedy of poverty and the complex relationships between the characters. It also hints at hidden motives and potential ulterior motives of certain characters, adding depth and intrigue to the story.In this chapter from \"Crime and Punishment,\" Raskolnikov is experiencing a period of intense inner turmoil and confusion. He is haunted by his actions and feels a fog of solitude enveloping him. He struggles with moments of panic and moments of apathy, trying to escape from a clear understanding of his situation. He is particularly worried about Svidrigaïlov and the impact of his words in Sonia\\'s room. \\n\\nRaskolnikov meets with Porfiry Petrovitch, who tries to explain his suspicions and motives. Porfiry believes Raskolnikov is the murderer and urges him to confess. He offers to arrange a surprise confession to lessen Raskolnikov\\'s sentence. Raskolnikov is torn between his guilt and desire to confess, but ultimately rejects the idea of a mitigated sentence. Porfiry tries to offer words of wisdom and encouragement, telling Raskolnikov to embrace life and have faith in the future.\\n\\nRaskolnikov is skeptical of Porfiry\\'s intentions and questions his motives. Porfiry\\'s words of encouragement and advice, while somewhat cryptic, seem to touch a nerve with Raskolnikov. He is struck by the idea that there may be life waiting for him beyond his current struggles and suffering. The chapter ends with Raskolnikov reflecting on Porfiry\\'s words and the uncertainty of his future.\\nSvidrigaïlov ends his conversation with Raskolnikov by expressing regret that they didn\\'t have more time to talk, but assures him that he won\\'t lose sight of him. Raskolnikov, feeling uneasy and suspicious of Svidrigaïlov, decides to follow him. Svidrigaïlov, seeming preoccupied and frowning, walks away with a sense of importance and anticipation. Raskolnikov, feeling that something important is about to happen, decides to keep an eye on him. The conversation between the two men reveals Svidrigaïlov\\'s manipulative and deceitful nature, as he shares stories of his immoral actions and plans for marriage to a young girl. Raskolnikov becomes increasingly suspicious of Svidrigaïlov\\'s intentions and decides to keep a close watch on him. The interaction between the two characters highlights themes of deceit, manipulation, and moral ambiguity in the novel. in his blanket. The candle had burnt out and the room was filled with shadows. Svidrigaïlov sat up, his heart racing with fear. He tried to shake off the feeling of unease that the dream had left him with.\\n\\nAs he sat there in the darkness, he thought about Dounia and the strange turn of events that had led him to this moment. He remembered the promises he had made to her and the guilt he felt for his past actions. He realized that he needed to change, to become a better man.\\n\\nWith a sigh, he got up from the bed and lit the candle again. The room was silent, and he could hear the sound of the wind outside. He took a deep breath and made a decision. He would leave behind his old ways and start anew. He would seek redemption and strive to become a better person.\\n\\nAs he stood there in the flickering light of the candle, Svidrigaïlov felt a sense of peace wash over him. He knew that the road ahead would be difficult, but he was determined to walk it with courage and humility. And as he blew out the candle and lay back down on the bed, he closed his eyes and drifted off to sleep, ready to face whatever challenges lay ahead.preciate him for a friend, but so they say; I want to know \\nhim for a friend. You may be sure, Rodion Romanovitch, that I \\nam a man of honour, and I am not ashamed of that. And here \\nI have to be a beggar! Do you understand?’ \\nRaskolnikov’s voice broke and he seemed unable to pro -\\nceed. He dropped his head and hid his face in his hands. \\nThe lieutenant was looking so hard at him that Raskolnikov \\nrose and took a step back. The lieutenant gazed at him, \\npuzzled and surprised. \\n‘I have upset you, I …’ he muttered in confusion. \\n‘You upset me? You are upsetting yourself, don’t disturb \\nyourself. Come, let us go. And you will be so good as to tell \\nme, what to do. In your case, brother, I should prescribe \\na dash of Brandly or a couple of glasses of the Old Cock-\\nburn.’ \\n‘Why, what can I do to you?’ \\n‘Yes, I am very much upset. You will come, will you not? \\nHe’s upset, he’s quite upset! Oh, how sorry I am! But there, \\nhe is a feather-headed youngster after all. Oh, Rodya, you \\nwould not believe what a frightful worry I had when Mar -\\nmeladov told me about it. A creature like that and like that! \\nTo the police? Why, you’ll make it up with Ilusha, he will \\nbe your friend, he’ll help you. We shall get round it all pre -\\nsently, but what am I to do with you?’ \\n‘What shall we do with him?’ \\n‘Come, brother, you are a man of honour, I am not. I \\nam corrupt. Oh, Rodya, you wouldn’t believe! You are up -\\nset. Do lie down. I will bring you a glass of water.’ \\n‘Brother, what are you doing to me?’ Raskolnikov had \\nlong ceased to listen. He turned away from the lieutenant, \\nwho was laughing, and went up to Sonia. She was standing \\nwith her skirt a little raised, her figure was not what he had \\nexpected, and he calmed down at once and addressed her. \\n‘I was mistaken in you, Sonia,’ he said softly. ‘I was mis -\\ntaken in you.’ \\n‘Oh, Rodya, hush!’ cried Sonia. ‘Why are you saying that? \\nWhy, you are going there, aren’t you?’ \\n‘What does it matter to you?’ \\n‘Rodya! It’s the cross on your neck!’ \\n‘That’s not it!’ said Raskolnikov, looking at her with un -\\nspeakable reproach. \\n‘I am sorry, Rodya, for talking as I did. Don’t be angry \\nwith me, please. You won’t be angry? If you are angry I …’ \\n‘You were right,’ Raskolnikov continued, ‘it’s no use. It’s \\nno use! There’s nothing to be done. Forgive me, Sonia.’ \\n‘What are you saying, Rodya? What are you talking about? \\nI don’t understand you.’ \\n‘Nothing, nothing … I am going. Good-bye! Good-bye!’ \\nHe turned away and walked to the window. He could not \\nstay still. \\n‘Why, you’ll see Ilusha,’ cried Sonia. \\n‘No, I won’t.’ \\n‘Yes, you will. You will see Ilusha. You’ll come and see \\nus. You will ask for your friend. You will ask for Ilusha.’ \\n‘Good-bye, Sonia.’ \\n‘Where are you going?’ \\n‘I don’t know. I don’t know.’ \\nHe went out, trembling all over from a sort of wild cele -\\nbration. He walked along the street, and he turned into a \\nstreet that was new to him. He found himself in a dirty \\ncemetery, somewhere behind the Hay Market, he did not \\nknow how he had got there. \\n‘I have come to honour him, to press the cross to his lips \\nbefore they take him away. I thought, perhaps, that the \\ncross would be lying on his chest. But I don’t know how to \\ndo it. I don’t know how to do it.’ \\nHe thought of going back to Sonia. ‘No, let her be. I’ll go \\nto the canal, I’ll talk to Svidrigaïlov, I’ll tell him everything, \\nI’ll meet him, but … good-bye, Sonia.’ \\nHe stopped again, overcome with irrepressible trem -\\nbling. ‘And what if it is only my fancy? What if I am mis -\\ntaken, and through inexperience I get angry and don’t un -\\nderstand? Oh, how I hate the old woman now! I feel I should \\nkill her again if she came to life! Poor Lizaveta!’ \\nHe went into the Hay Market. It was distasteful, very dis -\\ntasteful to be in a crowd, but he walked just where he saw \\nmost people. He would have given anything in the world to \\nbe alone; but he knew himself that he would not have re -\\nmained alone for a moment. There was a man drunk and \\ndisorderly in the crowd; he kept trying to dance and falling \\ndown. There was a ring round him. Raskolnikov squeezed \\nhis way through the crowd, stared for some minutes at the \\ndrunken man and suddenly gave a short jerky laugh. A min -\\nute later he had forgotten him and did not see him, though \\nhe still stared. He moved away at last, not remembering where \\nhe was; but when he got into the middle of the square an \\nemotion suddenly came over him, overwhelming him body \\nand mind. \\nHe suddenly recalled Sonia’s words, ‘Go to the cross -\\nroads, bow down to the people, kiss the earth, for you have \\nsinned against it too, and say aloud to the whole world, ‘I \\nam a murderer.’’ He trembled, remembering that. And \\nthe hopeless misery and anxiety of all that time, especial -In this excerpt from Fyodor Dostoevsky\\'s novel Crime and Punishment, we see the protagonist, Raskolnikov, interacting with Ilya Petrovitch, a talkative and somewhat insensitive individual. Ilya Petrovitch discusses the education of midwives and the prevalence of suicides in society, including the recent suicide of a man named Svidrigaïlov. This news shocks Raskolnikov, as he had known Svidrigaïlov through his sister, who had been a governess in his family. Raskolnikov is visibly distressed by the news and eventually confesses to the murder of the old pawnbroker woman and her sister Lizaveta. The excerpt ends with Raskolnikov\\'s confession and the stunned reactions of those around him.\\n\\nThroughout this passage, we see Raskolnikov\\'s internal turmoil and guilt weighing heavily on him, leading to his confession. The conversation with Ilya Petrovitch serves as a catalyst for Raskolnikov\\'s admission of his crime, highlighting the psychological complexity of the character and the consequences of his actions. The excerpt also touches on themes of morality, guilt, and redemption, as Raskolnikov grapples with his conscience and ultimately takes responsibility for his actions.'"
      ]
     },
     "execution_count": 131,
     "metadata": {},
     "output_type": "execute_result"
    }
   ],
   "source": [
    "prompt"
   ]
  },
  {
   "cell_type": "code",
   "execution_count": 132,
   "metadata": {},
   "outputs": [
    {
     "data": {
      "text/plain": [
       "1859"
      ]
     },
     "execution_count": 132,
     "metadata": {},
     "output_type": "execute_result"
    }
   ],
   "source": [
    "len(res.content)"
   ]
  },
  {
   "cell_type": "code",
   "execution_count": 133,
   "metadata": {},
   "outputs": [
    {
     "data": {
      "text/plain": [
       "'The selected excerpts from Fyodor Dostoevsky\\'s novel \"Crime and Punishment\" provide a glimpse into the intricacies of the protagonist, Raskolnikov\\'s, inner turmoil, moral dilemmas, and the consequences of his actions. The novel delves into themes of guilt, redemption, and the complexities of human nature, offering a profound exploration of the human psyche and the moral implications of one\\'s choices.\\n\\nThe passages highlight Raskolnikov\\'s conflicted emotions and the psychological unraveling he experiences after committing a heinous crime. He is haunted by his actions, filled with guilt and fear, and struggles to come to terms with the consequences of his decisions. Raskolnikov is torn between justifying his crime as a means to do good for society and grappling with the overwhelming guilt and remorse that follow.\\n\\nThe interactions with other characters, such as Porfiry Petrovitch, Sonia, and Svidrigaïlov, add layers of tension and complexity to the narrative. Porfiry\\'s probing questions challenge Raskolnikov\\'s beliefs, while Sonia\\'s unwavering faith and compassion offer a glimmer of hope amidst the darkness. Svidrigaïlov\\'s manipulative nature and questionable intentions further complicate Raskolnikov\\'s internal struggles.\\n\\nThe excerpts also touch upon the themes of poverty, desperation, and mental illness, as portrayed through characters like Katerina Ivanovna. The stark realities of their circumstances add depth and poignancy to the narrative, highlighting the harsh realities of life in 19th-century Russia.\\n\\nOverall, the selected excerpts provide a comprehensive overview of the psychological, moral, and societal complexities portrayed in \"Crime and Punishment.\" The novel delves into the depths of human nature, exploring themes of guilt, redemption, and the consequences of one\\'s actions in a profound and thought-provoking manner.'"
      ]
     },
     "execution_count": 133,
     "metadata": {},
     "output_type": "execute_result"
    }
   ],
   "source": [
    "res.content"
   ]
  },
  {
   "cell_type": "code",
   "execution_count": null,
   "metadata": {},
   "outputs": [],
   "source": []
  }
 ],
 "metadata": {
  "kernelspec": {
   "display_name": "chatbot",
   "language": "python",
   "name": "python3"
  },
  "language_info": {
   "codemirror_mode": {
    "name": "ipython",
    "version": 3
   },
   "file_extension": ".py",
   "mimetype": "text/x-python",
   "name": "python",
   "nbconvert_exporter": "python",
   "pygments_lexer": "ipython3",
   "version": "3.9.19"
  }
 },
 "nbformat": 4,
 "nbformat_minor": 2
}
