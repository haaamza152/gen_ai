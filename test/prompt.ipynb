{
 "cells": [
  {
   "cell_type": "code",
   "execution_count": 6,
   "metadata": {},
   "outputs": [],
   "source": [
    "from langchain import PromptTemplate\n",
    "\n",
    "#creating a custom propmt template\n",
    "prompt = PromptTemplate(\n",
    "    template=\"\"\"\"/\n",
    "    create a personalized study plans for student based on the following information:\n",
    "    Name: {name}, filed of study: {field}, year of study:{year}, list of subjects:{subjects}, preffered learning style: {style}, personal objectives: {objectives}/\n",
    "    challenges: {challenges}, Extracurricular activities: {extra}\n",
    "\"\"\",\n",
    "    input_variables=[\"name\", \"field\", \"year\", \"subjects\", \"style\", \"objectives\", \"challenges\", \"extra\"]\n",
    ")"
   ]
  },
  {
   "cell_type": "code",
   "execution_count": 7,
   "metadata": {},
   "outputs": [
    {
     "data": {
      "text/plain": [
       "PromptTemplate(input_variables=['challenges', 'extra', 'field', 'name', 'objectives', 'style', 'subjects', 'year'], template='\"/\\n    create a personalized study plans for student based on the following information:\\n    Name: {name}, filed of study: {field}, year of study:{year}, list of subjects:{subjects}, preffered learning style: {style}, personal objectives: {objectives}/\\n    challenges: {challenges}, Extracurricular activities: {extra}\\n')"
      ]
     },
     "execution_count": 7,
     "metadata": {},
     "output_type": "execute_result"
    }
   ],
   "source": [
    "prompt"
   ]
  },
  {
   "cell_type": "code",
   "execution_count": 17,
   "metadata": {},
   "outputs": [],
   "source": [
    "#creating a formated template\n",
    "prompt_formatted= prompt.format(\n",
    "    name=\"Ali\",\n",
    "    field=\"Data Science\",\n",
    "    year = 2020,\n",
    "    subjects = \"Mathematics, science\",\n",
    "    style = \"fast\",\n",
    "    objectives = \"making a personal website\",\n",
    "    challenges = \"busy schedule\",\n",
    "    extra = \"cricket, football\"\n",
    "    )"
   ]
  },
  {
   "cell_type": "code",
   "execution_count": 9,
   "metadata": {},
   "outputs": [
    {
     "data": {
      "text/plain": [
       "'\"/\\n    create a personalized study plans for student based on the following information:\\n    Name: Ali, filed of study: Data Science, year of study:2020, list of subjects:Mathematics, science, preffered learning style: fast, personal objectives: making a personal website/\\n    challenges: busy schedule, Extracurricular activities: cricket, football\\n'"
      ]
     },
     "execution_count": 9,
     "metadata": {},
     "output_type": "execute_result"
    }
   ],
   "source": [
    "prompt_formatted"
   ]
  },
  {
   "cell_type": "code",
   "execution_count": 12,
   "metadata": {},
   "outputs": [
    {
     "data": {
      "text/plain": [
       "True"
      ]
     },
     "execution_count": 12,
     "metadata": {},
     "output_type": "execute_result"
    }
   ],
   "source": [
    "from langchain.llms import OpenAI\n",
    "from dotenv import load_dotenv\n",
    "import os\n",
    "load_dotenv()"
   ]
  },
  {
   "cell_type": "code",
   "execution_count": 13,
   "metadata": {},
   "outputs": [
    {
     "name": "stderr",
     "output_type": "stream",
     "text": [
      "/home/hamza/miniconda3/envs/chatbot/lib/python3.9/site-packages/langchain_core/_api/deprecation.py:117: LangChainDeprecationWarning: The class `langchain_community.llms.openai.OpenAI` was deprecated in langchain-community 0.0.10 and will be removed in 0.2.0. An updated version of the class exists in the langchain-openai package and should be used instead. To use it run `pip install -U langchain-openai` and import as `from langchain_openai import OpenAI`.\n",
      "  warn_deprecated(\n"
     ]
    }
   ],
   "source": [
    "llm = OpenAI(openai_api_key=os.environ[\"OPENAI_API_KEY\"])"
   ]
  },
  {
   "cell_type": "code",
   "execution_count": 14,
   "metadata": {},
   "outputs": [
    {
     "name": "stderr",
     "output_type": "stream",
     "text": [
      "/home/hamza/miniconda3/envs/chatbot/lib/python3.9/site-packages/langchain_core/_api/deprecation.py:117: LangChainDeprecationWarning: The function `predict` was deprecated in LangChain 0.1.7 and will be removed in 0.2.0. Use invoke instead.\n",
      "  warn_deprecated(\n"
     ]
    }
   ],
   "source": [
    "\n",
    "prediction = llm.predict(prompt_formatted)"
   ]
  },
  {
   "cell_type": "code",
   "execution_count": 15,
   "metadata": {},
   "outputs": [
    {
     "data": {
      "text/plain": [
       "'\\nDear Ali,\\n\\nCongratulations on choosing Data Science as your field of study! As a personalized study planner, I am here to help you create a study plan that will suit your needs and help you achieve your personal objectives.\\n\\nBased on the information provided, I have created a study plan that includes your preferred learning style, personal objectives, and takes into consideration your challenges and extracurricular activities.\\n\\nStudy Plan for Ali:\\n\\n1. Schedule: As you mentioned, you have a busy schedule and are involved in extracurricular activities. It is important to manage your time effectively to balance your studies and other commitments. I recommend setting aside dedicated study hours each day, preferably in the morning when you are fresh and focused.\\n\\n2. Subject Prioritization: As a Data Science student, it is crucial to have a strong foundation in Mathematics and Science. Therefore, I suggest prioritizing these two subjects and allocating more study time for them.\\n\\n3. Fast Learning Style: Since you prefer a fast learning style, I recommend using visual aids such as diagrams, charts, and videos to help you grasp concepts quickly. You can also try practicing with past exam papers to test your understanding and improve your speed.\\n\\n4. Personal Objectives: Your personal objective of making a personal website is a great'"
      ]
     },
     "execution_count": 15,
     "metadata": {},
     "output_type": "execute_result"
    }
   ],
   "source": [
    "prediction"
   ]
  }
 ],
 "metadata": {
  "kernelspec": {
   "display_name": "chatbot",
   "language": "python",
   "name": "python3"
  },
  "language_info": {
   "codemirror_mode": {
    "name": "ipython",
    "version": 3
   },
   "file_extension": ".py",
   "mimetype": "text/x-python",
   "name": "python",
   "nbconvert_exporter": "python",
   "pygments_lexer": "ipython3",
   "version": "3.9.19"
  }
 },
 "nbformat": 4,
 "nbformat_minor": 2
}
