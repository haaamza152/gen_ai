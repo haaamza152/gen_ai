{
 "cells": [
  {
   "cell_type": "code",
   "execution_count": 2,
   "metadata": {},
   "outputs": [],
   "source": [
    "from langchain import PromptTemplate\n",
    "\n",
    "#creating a custom propmt template\n",
    "prompt = PromptTemplate(\n",
    "    template=\"\"\"\"/\n",
    "    create a personalized study plans for student based on the following information:\n",
    "    Name: {name}, filed of study: {field}, year of study:{year}, list of subjects:{subjects}, preffered learning style: {style}, personal objectives: {objectives}/\n",
    "    challenges: {challenges}, Extracurricular activities: {extra}\n",
    "\"\"\",\n",
    "    input_variables=[\"name\", \"field\", \"year\", \"subjects\", \"style\", \"objectives\", \"challenges\", \"extra\"]\n",
    ")"
   ]
  },
  {
   "cell_type": "code",
   "execution_count": 3,
   "metadata": {},
   "outputs": [
    {
     "data": {
      "text/plain": [
       "PromptTemplate(input_variables=['challenges', 'extra', 'field', 'name', 'objectives', 'style', 'subjects', 'year'], template='\"/\\n    create a personalized study plans for student based on the following information:\\n    Name: {name}, filed of study: {field}, year of study:{year}, list of subjects:{subjects}, preffered learning style: {style}, personal objectives: {objectives}/\\n    challenges: {challenges}, Extracurricular activities: {extra}\\n')"
      ]
     },
     "execution_count": 3,
     "metadata": {},
     "output_type": "execute_result"
    }
   ],
   "source": [
    "prompt"
   ]
  },
  {
   "cell_type": "code",
   "execution_count": 4,
   "metadata": {},
   "outputs": [],
   "source": [
    "#creating a formated template\n",
    "prompt_formatted= prompt.format(\n",
    "    name=\"Ali\",\n",
    "    field=\"Data Science\",\n",
    "    year = 2020,\n",
    "    subjects = \"Mathematics, science\",\n",
    "    style = \"fast\",\n",
    "    objectives = \"making a personal website\",\n",
    "    challenges = \"busy schedule\",\n",
    "    extra = \"cricket, football\"\n",
    "    )"
   ]
  },
  {
   "cell_type": "code",
   "execution_count": 5,
   "metadata": {},
   "outputs": [
    {
     "data": {
      "text/plain": [
       "'\"/\\n    create a personalized study plans for student based on the following information:\\n    Name: Ali, filed of study: Data Science, year of study:2020, list of subjects:Mathematics, science, preffered learning style: fast, personal objectives: making a personal website/\\n    challenges: busy schedule, Extracurricular activities: cricket, football\\n'"
      ]
     },
     "execution_count": 5,
     "metadata": {},
     "output_type": "execute_result"
    }
   ],
   "source": [
    "prompt_formatted"
   ]
  },
  {
   "cell_type": "code",
   "execution_count": 6,
   "metadata": {},
   "outputs": [
    {
     "data": {
      "text/plain": [
       "True"
      ]
     },
     "execution_count": 6,
     "metadata": {},
     "output_type": "execute_result"
    }
   ],
   "source": [
    "from langchain.llms import OpenAI\n",
    "from dotenv import load_dotenv\n",
    "import os\n",
    "load_dotenv()"
   ]
  },
  {
   "cell_type": "code",
   "execution_count": 7,
   "metadata": {},
   "outputs": [
    {
     "name": "stderr",
     "output_type": "stream",
     "text": [
      "/home/hamza/miniconda3/envs/chatbot/lib/python3.9/site-packages/langchain_core/_api/deprecation.py:117: LangChainDeprecationWarning: The class `langchain_community.llms.openai.OpenAI` was deprecated in langchain-community 0.0.10 and will be removed in 0.2.0. An updated version of the class exists in the langchain-openai package and should be used instead. To use it run `pip install -U langchain-openai` and import as `from langchain_openai import OpenAI`.\n",
      "  warn_deprecated(\n"
     ]
    }
   ],
   "source": [
    "llm = OpenAI(openai_api_key=os.environ[\"OPENAI_API_KEY\"])"
   ]
  },
  {
   "cell_type": "code",
   "execution_count": 8,
   "metadata": {},
   "outputs": [
    {
     "name": "stderr",
     "output_type": "stream",
     "text": [
      "/home/hamza/miniconda3/envs/chatbot/lib/python3.9/site-packages/langchain_core/_api/deprecation.py:117: LangChainDeprecationWarning: The function `predict` was deprecated in LangChain 0.1.7 and will be removed in 0.2.0. Use invoke instead.\n",
      "  warn_deprecated(\n"
     ]
    }
   ],
   "source": [
    "\n",
    "prediction = llm.predict(prompt_formatted)"
   ]
  },
  {
   "cell_type": "code",
   "execution_count": 9,
   "metadata": {},
   "outputs": [
    {
     "data": {
      "text/plain": [
       "\"\\nName: Ali\\nField of Study: Data Science\\nYear of Study: 2020\\n\\nPersonalized Study Plan:\\n\\n1. Assessment of Learning Style: As Ali prefers a fast learning style, the study plan will focus on providing condensed and concise information to help him learn efficiently.\\n\\n2. Time Management: As Ali has a busy schedule and participates in extracurricular activities, it is important to create a study plan that fits into his schedule. We will allocate specific time slots for studying each subject and ensure that it does not clash with his extracurricular activities.\\n\\n3. Subject Prioritization: The subjects of Mathematics and Science are crucial for Data Science. Therefore, we will prioritize these subjects and allocate more time for studying them.\\n\\n4. Personal Objective: As Ali's personal objective is to create a personal website, we will incorporate practical and hands-on learning activities related to Data Science, such as web development and data visualization, to help him achieve his goal.\\n\\n5. Customized Learning Materials: The study plan will include personalized learning materials, such as video tutorials, online courses, and practice exercises, to cater to Ali's preferred learning style and make the learning process more engaging and interactive.\\n\\n6. Regular Assessments: To track Ali's progress, regular assessments\""
      ]
     },
     "execution_count": 9,
     "metadata": {},
     "output_type": "execute_result"
    }
   ],
   "source": [
    "prediction"
   ]
  },
  {
   "cell_type": "code",
   "execution_count": 13,
   "metadata": {},
   "outputs": [
    {
     "name": "stdout",
     "output_type": "stream",
     "text": [
      "PDF saved as 'prompt.pdf'\n"
     ]
    }
   ],
   "source": [
    "from reportlab.lib.pagesizes import letter\n",
    "from reportlab.platypus import SimpleDocTemplate, Paragraph\n",
    "from reportlab.lib.styles import getSampleStyleSheet\n",
    "\n",
    "# Function to convert text to PDF\n",
    "def text_to_pdf(text, output_filename):\n",
    "    # Create a PDF document\n",
    "    pdf = SimpleDocTemplate(output_filename, pagesize=letter)\n",
    "    \n",
    "    # Create a list of paragraphs\n",
    "    styles = getSampleStyleSheet()\n",
    "    paragraphs = [Paragraph(text, styles[\"Normal\"]), Paragraph(\"Example Propmt\", styles[\"Title\"]),Paragraph(prompt_formatted, styles[\"Normal\"]) , \n",
    "                  Paragraph(\"Response for example Propmt\", styles[\"Title\"], Paragraph(prediction, styles[\"Normal\"]))\n",
    "                  ]\n",
    "    \n",
    "    # Add paragraphs to the PDF document\n",
    "    pdf.build(paragraphs)\n",
    "\n",
    "# Sample text\n",
    "sample_text = prompt.template \n",
    "\n",
    "# Convert text to PDF\n",
    "output_filename = \"prompt.pdf\"\n",
    "text_to_pdf(sample_text, output_filename)\n",
    "\n",
    "print(f\"PDF saved as '{output_filename}'\")\n"
   ]
  },
  {
   "cell_type": "code",
   "execution_count": null,
   "metadata": {},
   "outputs": [],
   "source": []
  }
 ],
 "metadata": {
  "kernelspec": {
   "display_name": "chatbot",
   "language": "python",
   "name": "python3"
  },
  "language_info": {
   "codemirror_mode": {
    "name": "ipython",
    "version": 3
   },
   "file_extension": ".py",
   "mimetype": "text/x-python",
   "name": "python",
   "nbconvert_exporter": "python",
   "pygments_lexer": "ipython3",
   "version": "3.9.19"
  }
 },
 "nbformat": 4,
 "nbformat_minor": 2
}
