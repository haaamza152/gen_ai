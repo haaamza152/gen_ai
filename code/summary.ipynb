{
 "cells": [
  {
   "cell_type": "code",
   "execution_count": 1,
   "metadata": {},
   "outputs": [],
   "source": [
    "from dotenv import load_dotenv\n",
    "from langchain.chat_models import ChatOpenAI\n",
    "from langchain_text_splitters import RecursiveCharacterTextSplitter\n",
    "from langchain.docstore.document import Document\n",
    "from pypdf import PdfReader\n",
    "load_dotenv()\n",
    "import os"
   ]
  },
  {
   "cell_type": "code",
   "execution_count": 2,
   "metadata": {},
   "outputs": [],
   "source": [
    "MODEL = 'gpt-3.5-turbo'"
   ]
  },
  {
   "cell_type": "code",
   "execution_count": 3,
   "metadata": {},
   "outputs": [
    {
     "name": "stderr",
     "output_type": "stream",
     "text": [
      "/home/hamza/miniconda3/envs/chatbot/lib/python3.9/site-packages/langchain_core/_api/deprecation.py:117: LangChainDeprecationWarning: The class `langchain_community.chat_models.openai.ChatOpenAI` was deprecated in langchain-community 0.0.10 and will be removed in 0.2.0. An updated version of the class exists in the langchain-openai package and should be used instead. To use it run `pip install -U langchain-openai` and import as `from langchain_openai import ChatOpenAI`.\n",
      "  warn_deprecated(\n"
     ]
    }
   ],
   "source": [
    "model = ChatOpenAI(\n",
    "    openai_api_key = os.environ[\"OPENAI_API_KEY\"],\n",
    "    model=MODEL\n",
    ")"
   ]
  },
  {
   "cell_type": "code",
   "execution_count": 4,
   "metadata": {},
   "outputs": [],
   "source": [
    "reader = PdfReader(\"/home/hamza/Documents/RAG/documents/crime-and-punishment.pdf\")\n",
    "text = \"\"\n",
    "texts = []\n",
    "parts = [{\"min\":6, \"max\":132}, {\"min\":132, \"max\":279}, {\"min\":280, \"max\":396}, {\"min\":397, \"max\":507}, {\"min\":508, \"max\":612}, {\"min\":612, \"max\":744}]\n",
    "for j in range(len(parts)):\n",
    "    text = \"\"\n",
    "    for i in range(parts[j]['min'], parts[j]['max']):\n",
    "        page = reader.pages[i]\n",
    "        text+=page.extract_text()\n",
    "    texts.append(text)\n"
   ]
  },
  {
   "cell_type": "code",
   "execution_count": 5,
   "metadata": {},
   "outputs": [],
   "source": [
    "text_spliter = RecursiveCharacterTextSplitter(\n",
    "   chunk_size = 50000,\n",
    "   chunk_overlap=0\n",
    ")"
   ]
  },
  {
   "cell_type": "code",
   "execution_count": 6,
   "metadata": {},
   "outputs": [
    {
     "name": "stderr",
     "output_type": "stream",
     "text": [
      "/home/hamza/miniconda3/envs/chatbot/lib/python3.9/site-packages/langchain_core/_api/deprecation.py:117: LangChainDeprecationWarning: The function `__call__` was deprecated in LangChain 0.1.7 and will be removed in 0.2.0. Use invoke instead.\n",
      "  warn_deprecated(\n"
     ]
    }
   ],
   "source": [
    "import time\n",
    "summaries = ''\n",
    "\n",
    "for j in range(len(texts)):\n",
    "    summary= ''\n",
    "    content = text_spliter.split_text(texts[j])\n",
    "    docs = [Document(page_content=t) for t in content]\n",
    "    for i in range(len(docs)):\n",
    "        prompt = f\"write a comprehensive summary for : {docs[i].page_content}\"\n",
    "\n",
    "\n",
    "        from langchain.schema import (\n",
    "            HumanMessage\n",
    "        )\n",
    "\n",
    "        messages = [\n",
    "            HumanMessage(content=prompt),\n",
    "        ]\n",
    "        res = model(messages)\n",
    "        summary+=res.content\n",
    "    summaries+=summary\n",
    "    time.sleep(20)"
   ]
  },
  {
   "cell_type": "code",
   "execution_count": 16,
   "metadata": {},
   "outputs": [],
   "source": [
    "prompt = f\"write a comprehensive summary of 2000 from these summaries of parts of the book: {summaries}\"\n",
    "\n",
    "\n",
    "from langchain.schema import (\n",
    "    SystemMessage,\n",
    "    HumanMessage,\n",
    "    AIMessage\n",
    ")\n",
    "\n",
    "messages = [\n",
    "    HumanMessage(content=prompt),\n",
    "]\n",
    "res = model(messages)"
   ]
  },
  {
   "cell_type": "code",
   "execution_count": 8,
   "metadata": {},
   "outputs": [
    {
     "data": {
      "text/plain": [
       "'write a comprehensive summary of two thousands words from these summaries of parts of the book: rsation leads Raskolnikov to contemplate the idea of committing a crime to obtain the old woman\\'s money and use it for the greater good of society.\\n\\nThe passage delves into Raskolnikov\\'s inner turmoil, his moral struggles, and his justification for potentially committing a heinous act. It highlights his conflicting thoughts and the internal battle between his desire to do good and his darker impulses. Ultimately, it sets the stage for the pivotal decision that Raskolnikov will have to make regarding the old woman and her money.The passage describes Raskolnikov\\'s descent into madness and desperation as he commits two brutal murders. The first is of an old pawnbroker woman, who he justifies as being harmful to society and therefore deserving of death. He then kills her sister, Lizaveta, who stumbles upon the scene. Raskolnikov\\'s actions are methodical and calculated, but he begins to panic and lose control as he realizes the gravity of his crimes.\\n\\nAs he tries to cover up his tracks and avoid detection, he is haunted by paranoia and fear. He narrowly escapes being caught by a group of men who come to the flat. He manages to hide in an empty flat nearby, but is overwhelmed by the weight of what he has done. \\n\\nRaskolnikov\\'s mental state deteriorates further as he struggles to make sense of his actions and the consequences. He is consumed by guilt, fear, and confusion, and is unable to think clearly. The passage ends with Raskolnikov in a state of shock and despair, unable to process the enormity of his crimes. \\n\\nOverall, the passage explores themes of guilt, morality, and the consequences of one\\'s actions. It delves into the psychological turmoil of the protagonist as he grapples with the aftermath of his brutal and calculated murders.what?’\\n‘I don’t know,’ muttered Raskolnikov, feeling a sense of confusion and frustration. He was unable to articulate his thoughts and emotions clearly, and he was overwhelmed by a sense of hatred and repulsion towards everything and everyone around him.\\n‘You are seriously ill,’ Razumihin observed, concerned for his friend\\'s well-being. But Raskolnikov dismissed his friend\\'s worry and abruptly decided to leave, unable to bear being in anyone\\'s presence at that moment.\\nAs he made his way out, Raskolnikov realized that he was not in a state to face anyone, and he felt a deep sense of loathing and disgust towards the world. His inner turmoil and conflicting emotions left him feeling lost and confused.\\nIn this moment of intense inner conflict and despair, Raskolnikov\\'s actions and thoughts were driven by a sense of desperation and a need to escape from the overwhelming emotions that were consuming him. of them are lies! And lies, you know, are a necessity in this world.’\\nZossimov listened attentively to Razumihin’s passionate \\noutburst, and then turned to Raskolnikov, who still sat \\nstaring at the wall.\\n‘Well, what do you say to this?’ Zossimov asked, with \\ncuriosity.\\n‘I say, let him alone,’ Razumihin interjected. ‘It’s my \\nbelief he’s not quite right in his head.’\\n‘Oh, I am all right,’ Raskolnikov suddenly spoke up, \\nturning his head towards them. ‘And I am not going to let \\nyou get me off the track. I know all about it, and I know \\nwhat I must do. I am going to clear myself, but first I must \\nunderstand all about it. I must understand all the details. I \\nam going to understand it all, and then I’ll tell you!’\\nRazumihin and Zossimov exchanged glances, both seem -\\ning concerned about Raskolnikov’s mental state.\\n‘What does he mean by “understand it all”?’ Zossimov \\nasked quietly. ‘It’s a very strange way of speaking.’\\n‘I understand what I mean myself, not your way of under -\\nstanding,’ Raskolnikov replied, with irritation. ‘I am going to \\nclear myself, but first I must understand all about it.’\\n‘Well, that’s enough,’ Razumihin said, as he stood up. \\n‘We’ll leave you alone for now, Rodya. You must get some \\nrest.’\\nAs they left the room, Raskolnikov lay back on the sofa, \\nlost in thought. His mind was filled with a determination to \\nunderstand the details of the murder, to clear his name, and \\nto prove his innocence. He knew that he had a long road \\nahead of him, but he was determined to see it through.The protagonist, Raskolnikov, finds himself in a state of feverish determination and self-confidence, with a firm purpose in mind. He decides that everything must be changed immediately and that he cannot return home without making a significant change. He walks through the streets, feeling drawn to the noisy and chaotic atmosphere of the city. He interacts with various people, observing their behavior and engaging in brief conversations.\\n\\nFeeling a strange attraction towards the singing and noise coming from a saloon, Raskolnikov contemplates entering but ultimately decides against it. He continues to wander through the streets, eventually finding himself in a crowded market square. As he navigates through the throng of people, his thoughts are consumed by the idea that everything must be ended that day, one way or another.\\n\\nRaskolnikov\\'s inner turmoil and sense of urgency drive him to seek out newspapers for information. He sits in a restaurant, sifting through old newspapers and absorbing the news of accidents and fires in the city. Amidst the chaos and noise of the city, Raskolnikov grapples with his own inner turmoil and the weight of his decisions, ultimately seeking a sense of clarity and purpose in the tumultuous world around him. dying man received the sacrament, and the priest administered the last rites. As the priest finished, Marmeladov\\'s eyes closed, and he took his last breath. Katerina Ivanovna collapsed in grief, and the room was filled with a sense of sorrow and loss.\\n\\nRaskolnikov, feeling a sense of guilt for bringing Marmeladov to his home, stood silently in the corner, watching the scene unfold. The doctor confirmed the man\\'s death and left, and the priest offered a prayer for the departed soul. Katerina Ivanovna, now a widow, was inconsolable, and the children were left in a state of shock and confusion.\\n\\nAs the crowd dispersed and the room fell silent, Raskolnikov reflected on the events of the evening. He felt a sense of remorse for his actions and wondered if he could have done things differently. The weight of his guilt and the realization of the consequences of his actions weighed heavily on him.\\n\\nLeaving the house, Raskolnikov walked into the night, his mind filled with conflicting emotions. The events of the evening had left a mark on him, and he knew that he could not easily shake off the guilt and sorrow that now haunted him. As he walked away, he was filled with a sense of remorse and a desire to make amends for the mistakes he had made.In this passage from Dostoevsky\\'s \"Crime and Punishment,\" we see a dramatic and emotional scene unfold as Raskolnikov, the protagonist, is confronted by his mother and sister who have been waiting for him in his room. Raskolnikov, who has just come from a deathbed and is feeling weak and overwhelmed, is taken aback by their presence and is unable to fully process the situation. His mother and sister, who have been worried sick about him, rush to embrace him, but he is unable to reciprocate due to his state of shock. \\n\\nRazumihin, a friend of Raskolnikov\\'s, steps in to support him and reassure his mother and sister that he is alright. Despite their initial panic, they are relieved to see Raskolnikov being cared for and comforted by Razumihin. The scene is filled with tears, joy, and a sense of relief as Raskolnikov\\'s family finally reunites with him after a period of uncertainty and worry.\\n\\nThe passage also touches on Raskolnikov\\'s internal struggles and emotional turmoil, as well as his interactions with other characters such as Zossimov and Razumihin. Raskolnikov\\'s complex character is further explored through his actions and reactions in this intense and pivotal moment in the story. The scene serves to deepen the reader\\'s understanding of Raskolnikov\\'s psyche and the dynamics of his relationships with those around him.In this chapter, Razumihin is faced with the consequences of his drunken behavior from the previous night. He reflects on his actions and feels ashamed of his behavior towards Pyotr Petrovitch. He also shares his observations of Raskolnikov\\'s character with Pulcheria Alexandrovna and Avdotya Romanovna, highlighting Raskolnikov\\'s moodiness, pride, and suspicion. Pulcheria Alexandrovna expresses her concerns about a note from Pyotr Petrovitch, who requests that Raskolnikov not be present for a meeting. Razumihin advises them to follow Avdotya Romanovna\\'s decision in handling the situation. The chapter ends with uncertainty and tension surrounding the upcoming meeting with Pyotr Petrovitch and the decision regarding Raskolnikov\\'s presence. to herself, feeling overwhelmed with emotions. She hurried home, her heart pounding with anticipation and fear, unsure of what the future would bring.\\n\\nMeanwhile, Raskolnikov and Razumihin set off to find Porfiry Petrovitch, eager to resolve the issue of the pawned items. Razumihin was excited to introduce Raskolnikov to Porfiry, whom he had spoken highly of in the past. As they walked, Razumihin expressed his happiness that everything was turning out so well, and Raskolnikov felt a sense of relief that things were falling into place.\\n\\nAs they walked, Raskolnikov couldn\\'t help but think about Sonia and the encounter they had just had. He was struck by her innocence and vulnerability, and a feeling of compassion stirred within him. He knew that their lives were intertwined in ways he couldn\\'t fully understand. \\n\\nAs they reached Porfiry\\'s place, Raskolnikov felt a mix of anxiety and determination. He was ready to face whatever consequences awaited him, knowing that he had to confront his past actions and the guilt that weighed heavily on his conscience.\\n\\nThe day was full of anticipation and uncertainty for everyone involved, but one thing was certain - their lives were about to change in ways they couldn\\'t predict.In this comprehensive summary, the scene from Fyodor Dostoevsky\\'s novel \"Crime and Punishment\" is analyzed in detail. The passage describes a conversation between Raskolnikov, Porfiry Petrovitch, Razumihin, and Zametov. Raskolnikov, the protagonist, discusses his controversial ideas about crime and morality, stating that extraordinary individuals have the right to commit crimes for the greater good. Porfiry challenges Raskolnikov\\'s beliefs, leading to a philosophical debate about the nature of crime and conscience.\\n\\nPorfiry questions Raskolnikov about his article on crime, suggesting that he may have considered himself an extraordinary man while writing it. The conversation becomes tense as Porfiry hints at Raskolnikov\\'s possible involvement in the recent murder of Alyona Ivanovna. Razumihin becomes suspicious and confronts Porfiry about the timing of the murder and the presence of painters in the building.\\n\\nRaskolnikov denies seeing the painters and tries to deflect suspicion, but Porfiry\\'s line of questioning unsettles him. The tension escalates as the characters navigate the complex interplay of guilt, conscience, and morality. The chapter ends with Porfiry expressing regret for confusing the details and admitting his mistake.\\n\\nOverall, the passage delves into the psychological and moral complexities of the characters, highlighting the internal struggles and external pressures that shape their actions and beliefs. Through nuanced dialogue and intricate character interactions, Dostoevsky explores themes of guilt, conscience, and the consequences of one\\'s actions.In this passage from Fyodor Dostoevsky\\'s novel \"Crime and Punishment,\" we see the protagonist, Raskolnikov, in a state of turmoil and confusion. After a tense encounter with Porfiry Petrovitch, Raskolnikov and his friend Razumihin walk through the streets, discussing their suspicions and fears. Raskolnikov is haunted by his recent actions and the consequences they may bring.\\n\\nAs they approach Bakaleyev’s lodgings, where Raskolnikov\\'s family is waiting for them, Razumihin tries to reassure Raskolnikov, but Raskolnikov is consumed by paranoia and self-doubt. He reflects on his motives for the murder he committed and the guilt he feels. He questions his own sanity and struggles to come to terms with his actions.\\n\\nThe passage takes a dark turn as Raskolnikov\\'s thoughts spiral into a feverish state of delirium. He grapples with his conflicting emotions, oscillating between guilt, anger, and a sense of righteousness. He is tormented by visions and hallucinations, haunted by the memory of the murder he committed.\\n\\nThe tension escalates as Raskolnikov encounters a mysterious man who accuses him of being a murderer. This encounter triggers a deep sense of fear and paranoia in Raskolnikov, leading him to question his own sanity and morality. The passage ends with Raskolnikov in a state of confusion and distress, grappling with the weight of his actions and the consequences they may bring.\\n\\nOverall, this passage delves into Raskolnikov\\'s inner turmoil and psychological unraveling, painting a vivid portrait of a man haunted by his own conscience and struggling to come to terms with the consequences of his actions. that you are not disposed to be very friendly towards us,’ Dounia retorted, her eyes flashing with indignation.\\n\\n‘I am not disposed to be friendly towards people who insult me,’ Luzhin replied haughtily.\\n\\n‘Insult you!’ exclaimed Dounia. ‘How have we insulted you? We have only spoken the truth and defended ourselves.’\\n\\n‘The truth!’ Luzhin scoffed. ‘You call it the truth when you accuse me of false intentions and spread slander about me? I have tried to be generous and understanding, but it seems that you are not capable of appreciating it.’\\n\\nRaskolnikov watched the exchange with a mixture of amusement and annoyance. He could see that Luzhin was trying to manipulate the situation to his advantage, but Dounia was not easily swayed. Pulcheria Alexandrovna, on the other hand, seemed overwhelmed by the conflict.\\n\\n‘I think it would be best if we put an end to this discussion,’ Dounia said firmly. ‘It is clear that we do not see eye to eye, and it is better to part ways now.’\\n\\nLuzhin stood up, his face flushed with anger. ‘Very well, if that is your decision,’ he said coldly. ‘I will take my leave and bid you good day.’\\n\\nAs he made his way to the door, Raskolnikov felt a sense of relief. He was glad to see Luzhin go, as he had always distrusted the man. Now, with the tension lifted, he felt a sense of freedom and peace. He knew that there would be challenges ahead, but he was ready to face them with courage and determination. And as he looked at his sister and mother, he knew that they would always stand by his side, no matter what obstacles they faced.him, and let him go.’\\nSonia stopped, her breath coming in short gasps. Raskolnikov \\ngazed at her in awe, his heart pounding with emotion. He \\nfelt as though a great weight had been lifted off his chest, \\nas though a ray of light had pierced through the darkness \\nthat had clouded his mind. He saw in Sonia’s face a radiance \\nand faith that he had never seen before.\\n‘Why do you stop?’ he asked hoarsely.\\n‘I can’t … I can’t go on,’ she whispered, tears streaming \\ndown her face. ‘It’s so beautiful, so wonderful, so holy. I can’t \\nbear it.’\\nRaskolnikov was silent for a moment, then he spoke in a \\nlow, trembling voice.\\n‘Read, Sonia. Read on. Don’t stop. I want to hear more.’\\nSonia took a deep breath, wiped away her tears, and contin -\\nued reading. As she read the words of Jesus, the room seemed \\nto fill with a warm, comforting light. Raskolnikov felt a sense \\nof peace and hope wash over him, as though a burden had \\nbeen lifted from his soul. He listened intently, absorbing every \\nword, every verse, as though they were speaking directly to \\nhis heart. And as Sonia read on, her voice filled with fervor \\nand faith, he felt a stirring within him, a glimmer of belief \\nand redemption. At that moment, he knew that he was not \\nalone, that there was still hope for him, that he could find \\nforgiveness and salvation. And as the words of the scripture \\nreached their conclusion, he closed his eyes, feeling a sense \\nof gratitude and renewal wash over him.Porfiry Petrovitch was taken aback by Nikolay\\'s sudden confession of being the murderer of Alyona Ivanovna and her sister Lizaveta Ivanovna. Nikolay was pale and determined, confessing his guilt and stating that darkness came over him. Porfiry was bewildered and questioned Nikolay further, trying to understand the situation. Nikolay remained on his knees, repeating his confession and expressing his desire to give evidence.\\n\\nThe atmosphere in the room was tense as Porfiry tried to make sense of the situation. He ordered the uninvited spectators to leave and focused on Nikolay and Raskolnikov, who was watching the scene with wild eyes. Porfiry was unsure of how to proceed, torn between the sudden confession and the unexpected turn of events.\\n\\nNikolay\\'s confession left everyone in shock, especially Raskolnikov who was still processing the situation. Despite the confusion and disbelief, Porfiry tried to gather his thoughts and determine the next steps in the investigation. The sudden turn of events added a layer of complexity to the case and left everyone in the room on edge.In this passage from Fyodor Dostoevsky\\'s novel Crime and Punishment, the protagonist Raskolnikov finds himself in a tense and suspenseful situation as he interacts with the detective Porfiry Petrovitch and a man who confesses to having wronged him. Porfiry questions Nikolay, a suspect in a murder case, and Raskolnikov becomes increasingly anxious as he realizes he may have revealed too much during his previous interactions with Porfiry. However, Raskolnikov is relieved when the man confesses to being the one who informed Porfiry about Raskolnikov\\'s visit to the crime scene. This revelation provides Raskolnikov with a sense of relief and confidence as he realizes that there is no concrete evidence linking him to the crime. As Raskolnikov reflects on the events that have transpired, he becomes determined to fight for his innocence and face the consequences of his actions. The passage explores themes of guilt, redemption, and the complexities of human nature, leaving the reader on edge as Raskolnikov navigates the moral dilemmas and psychological turmoil that plague him.had learned from her interactions with the landlady. Katerina Ivanovna, however, was too preoccupied with her own grievances and the success of the dinner to pay much attention to Sonia\\'s apologies. She continued to talk animatedly, criticizing the absent guests and making sarcastic remarks about the landlady and the other lodgers.\\n\\nThroughout the dinner, Katerina Ivanovna\\'s behavior becomes increasingly erratic, as she alternates between bursts of laughter and fits of coughing and blood-stained handkerchiefs. She shows Raskolnikov the blood in silence, then whispers to him with extreme animation, her cheeks flushed with excitement.\\n\\nKaterina Ivanovna\\'s pride and vanity are on full display as she laments the absence of the more respectable lodgers and criticizes the behavior of the guests who did attend. She is particularly incensed by the behavior of Amalia Ivanovna, the landlady, whom she feels has not shown proper respect and hospitality to the guests.\\n\\nDespite her own health issues and the chaos of the dinner, Katerina Ivanovna is determined to maintain a sense of dignity and propriety, even as she struggles with her emotions and physical discomfort. The dinner serves as a microcosm of the tensions and conflicts within the household, as well as Katerina Ivanovna\\'s own internal struggles and desires for respect and recognition.in search of justice. He then asked Sonia if she had heard what had happened at Katerina Ivanovna\\'s house. Sonia replied that she had heard some of it, but not all. Raskolnikov then proceeded to tell her about how Luzhin had falsely accused her of stealing the hundred-rouble note, and how Lebeziatnikov had exposed Luzhin\\'s deceit. He explained how Luzhin\\'s motive was to estrange Raskolnikov from his family and to gain favor with them, and that Luzhin had written to Raskolnikov\\'s mother and sister with false accusations. \\n\\nSonia listened attentively, and Raskolnikov then asked her if she believed him. She replied that she did, and expressed her gratitude for his defense of her. Raskolnikov then told her that he had to tell her something, and revealed that he was the one who had killed Lizaveta. Sonia was shocked and horrified, but she forgave him and offered him comfort. They both realized that they had a strong connection, and Raskolnikov felt a sense of relief and gratitude towards Sonia.\\n\\nOverall, the interaction between Raskolnikov and Sonia in this chapter reveals a deep emotional bond between them, as well as the power of forgiveness and understanding in the face of intense suffering and turmoil.and the crowd is waiting. Shall we sing ‘My Village’ or ‘The \\nSong of the Volga Boatmen’? By the way, I shall go into the \\nstreet, not into the square…. Ah, the absurdity of it! I am a \\nlittle frightened. Rodion Romanovitch, you are not going to \\nleave me? You’ll protect me, you’ll save me from them? But \\nwhat need have I of protection? Come with me, I won’t let \\nyou alone for a moment. She is so stupid, she doesn’t under -\\nstand, she dragged me here, I didn’t want to come. Never -\\ntheless, I will protect you, never fear! Let us go, let us go to \\nthe canal! I have a song ready, ‘The Two Grenadiers’—a fine \\nthing, I’ll sing it to you! Listen! ‘When the King went forth to \\nwar’ … and the rest! I have a letter from Mr. Lebeziatnikov \\nfor you, Rodion Romanovitch. He asked me to hand you \\nthis. Ah, the scoundrels, the scoundrels! How is it, Rodion \\nRomanovitch, you don’t make haste to help? Merciful Heav -\\nens! Deliver us from this! What more, what more is want -\\ned? Shall I go into the street? Speak, Rodion Romanovitch, \\nyou are not going? And if you are convicted, you will be \\nblamed for it. Think, I shall be alone, completely alone, \\nalone! He’ll be gone, will you let me go? Rodion Romanov -\\nitch, make haste to help me! By the way, I am convinced that \\nyou regard me with contempt, because I have not scruple -\\nlessly made a prop of my daughter for the furtherance of my \\nown interests. Rodion Romanovitch, make haste to help!’ \\nKaterina Ivanovna concluded, in desperate resolve.In this scene from Fyodor Dostoevsky\\'s novel \"Crime and Punishment\", Katerina Ivanovna, a destitute widow, is trying to make ends meet by having her children perform on the streets of St. Petersburg. She is desperate for money and is willing to make her children sing and dance in order to attract attention from passersby. Katerina Ivanovna is clearly struggling, as she is coughing and weak, but she is determined to make some money for her family.\\n\\nAs she plans their performance and urges her children to sing and dance, a policeman interrupts them and tries to stop the show. However, a kind gentleman steps in and gives Katerina Ivanovna some money, showing sympathy for her situation. Despite her efforts to keep the performance going, chaos ensues as the children become scared and run away from the policeman.\\n\\nKaterina Ivanovna collapses and is carried to a nearby room, where she eventually passes away. Sonia, a kind-hearted young woman, tries to comfort her in her final moments. Svidrigaïlov, a mysterious and wealthy man, offers to help the family by providing for the children\\'s education and future financial needs. Raskolnikov, the protagonist, is shocked by Svidrigaïlov\\'s sudden generosity and questions his motives.\\n\\nThe scene is filled with tension, desperation, and moments of kindness and compassion. It highlights the harsh realities of poverty and the complex dynamics between characters in the novel. As Katerina Ivanovna\\'s tragic story comes to an end, the reader is left pondering the themes of morality, redemption, and the power of human connection in the face of adversity.In this chapter of Crime and Punishment, Raskolnikov is visited by Porfiry Petrovitch, who openly accuses him of being the murderer. Porfiry presents his evidence and tries to convince Raskolnikov to confess to the crime. Raskolnikov initially resists, questioning Porfiry\\'s motives and methods. However, as the conversation progresses, Raskolnikov begins to reflect on his actions and the consequences of his guilt.\\n\\nPorfiry appeals to Raskolnikov\\'s sense of morality and tries to convince him that confessing and accepting responsibility for his crime will ultimately lead to his redemption. He suggests that suffering and facing the consequences of his actions will bring about a change in Raskolnikov\\'s life.\\n\\nDespite Raskolnikov\\'s initial skepticism, Porfiry\\'s words seem to strike a chord with him. He begins to consider the possibility of confession and redemption, even though he is still hesitant and conflicted. As the conversation unfolds, Raskolnikov is forced to confront his inner turmoil and come to terms with the consequences of his actions.\\n\\nOverall, this chapter delves into the themes of guilt, redemption, and the consequences of one\\'s actions. It highlights the internal struggle of the protagonist and the moral dilemmas he faces as he grapples with the weight of his crime. The dynamic between Raskolnikov and Porfiry adds tension and depth to the narrative, leading to a thought-provoking exploration of morality and justice.other way around,’ Svidrigaïlov said abruptly, as if dismissing Raskolnikov. But Raskolnikov, feeling suspicious and uneasy, decided to follow him. As they walked, Svidrigaïlov\\'s behavior became more rude and sneering, and Raskolnikov became more suspicious. He noticed that Svidrigaïlov seemed preoccupied and uneasy, as if anticipating something important. This only increased Raskolnikov\\'s unease, and he resolved to keep a close eye on Svidrigaïlov. The chapter ends with Svidrigaïlov suggesting they go their separate ways, but Raskolnikov decides to follow him instead. in the blanket. He realized that it was all a dream, but the fear and unease remained. He got up, lit the candle, and examined the room, reassuring himself that there was no mouse. The strange and unsettling dream made him reflect on his own thoughts and actions, particularly regarding Dounia and his past decisions. As he tried to calm himself, he couldn\\'t shake off the feeling of dread and discomfort that the dream had brought. Despite trying to distract himself, he couldn\\'t shake off the lingering unease. The night ended with Svidrigaïlov still grappling with his inner turmoil and the unsettling events of the evening.preciate him, but … he is a mere complication. That’s a \\nthing I can’t bear! I am not a cynic, but I am a man of ac-\\ntion, a man of the Karamazov stamp. I am of the Karamazov \\nstamp! Do you know that extraordinary poem? But I can’t \\nsay it aloud, I am not a Karamazov. I am not a man of \\nwords’….\\nRaskolnikov sat in silence, listening with disgust. He only \\nsaid what was required by the form, and did not answer \\nquestions. The Explosive Lieutenant had been going on \\nconversing and introducing his own stories for a long time. \\nRaskolnikov at last felt disgusted. He unhooked his hand-\\ncuffs, got up and went to the door.\\n‘Are you going for an official report, then?’ cried the \\nLieutenant. ‘Do you know I am dining at the Versons’? There \\nwill be a party, and they have invited me. Don’t you want to \\ncome with me?’\\n‘No.’\\n‘And do you know I shall tell them? I will speak out!\\nOf course, there is no need to tell you that if you con -\\nsider that I am seeking your happiness … you may set your \\nmind quite at rest! There! Do you see? Do you see?’\\nBut Raskolnikov was already stepping into the street. He \\nwas so muddled and bewildered that on getting home he sat \\nfor a quarter of an hour on the sofa, trying to collect his \\nthoughts. He did not attempt to think about Nikolay and \\nDmitri. At last he was roused from his reverie by the two \\nwaiting in the room. He looked inquiringly at them. They \\nbegan telling him something, but he did not and could not \\nattend to them. He hurried to the door, listened, caught up \\nhis hat and began to descend. They ran down after him. He \\nwas not to be found, the wharf was not to be seen. They ran \\nto look for him. They met him. He went up to them running. \\n‘It’s all right,’ he said, ‘it’s over, and thank God!’ and with \\na big piece of his heart went out to them in their distress.In this excerpt from Crime and Punishment, Raskolnikov encounters Ilya Petrovitch, who is discussing the increase in educated midwives in society. Raskolnikov is uninterested in the conversation until he hears about a man named Svidrigaïlov who has committed suicide. Svidrigaïlov was known to Raskolnikov as his sister\\'s former employer. This news shocks Raskolnikov, and he begins to feel overwhelmed. He leaves the conversation abruptly and encounters Sonia, who looks horrified. Raskolnikov then confesses to Ilya Petrovitch that he is the one who murdered the pawnbroker and her sister. The excerpt ends with Raskolnikov\\'s confession and the shock of those around him.'"
      ]
     },
     "execution_count": 8,
     "metadata": {},
     "output_type": "execute_result"
    }
   ],
   "source": [
    "prompt"
   ]
  },
  {
   "cell_type": "code",
   "execution_count": 18,
   "metadata": {},
   "outputs": [
    {
     "data": {
      "text/plain": [
       "1719"
      ]
     },
     "execution_count": 18,
     "metadata": {},
     "output_type": "execute_result"
    }
   ],
   "source": [
    "len(res.content)"
   ]
  },
  {
   "cell_type": "code",
   "execution_count": 17,
   "metadata": {},
   "outputs": [
    {
     "data": {
      "text/plain": [
       "'In the novel \"Crime and Punishment\" by Fyodor Dostoevsky, the year 2000 is depicted through a series of interconnected events and character interactions that highlight the themes of guilt, redemption, and the consequences of one\\'s actions. The protagonist, Raskolnikov, grapples with inner turmoil and conflicting emotions as he struggles to come to terms with the murders he has committed. The passage explores Raskolnikov\\'s moral struggles, paranoia, and sense of isolation as he navigates the aftermath of his actions.\\n\\nThroughout the text, Raskolnikov is confronted with his own guilt and the weight of his crimes, leading to moments of introspection and self-reflection. The dream sequence he experiences serves as a catalyst for his inner turmoil, pushing him to confront his moral compass and the consequences of his actions. As he interacts with various characters, such as Porfiry Petrovitch, Sonia, and Katerina Ivanovna, Raskolnikov is forced to confront his own beliefs and grapple with the complexities of human nature.\\n\\nThe passage also delves into the dynamics between characters, such as Raskolnikov\\'s interactions with Porfiry Petrovitch, Sonia, and Svidrigaïlov. These interactions highlight the moral dilemmas, psychological turmoil, and interplay of guilt and redemption that shape the narrative.\\n\\nOverall, the year 2000 in \"Crime and Punishment\" is a pivotal moment in the novel that delves into the depths of human nature, morality, and the consequences of one\\'s actions. Through a series of interconnected events and character interactions, Dostoevsky explores the complexities of guilt, redemption, and the search for meaning and purpose in a world filled with moral ambiguity and inner turmoil.'"
      ]
     },
     "execution_count": 17,
     "metadata": {},
     "output_type": "execute_result"
    }
   ],
   "source": [
    "res.content"
   ]
  },
  {
   "cell_type": "code",
   "execution_count": 11,
   "metadata": {},
   "outputs": [
    {
     "data": {
      "text/plain": [
       "32280"
      ]
     },
     "execution_count": 11,
     "metadata": {},
     "output_type": "execute_result"
    }
   ],
   "source": [
    "len(summaries)"
   ]
  },
  {
   "cell_type": "code",
   "execution_count": 20,
   "metadata": {},
   "outputs": [
    {
     "name": "stdout",
     "output_type": "stream",
     "text": [
      "Collecting fpdf\n",
      "  Downloading fpdf-1.7.2.tar.gz (39 kB)\n",
      "  Preparing metadata (setup.py) ... \u001b[?25ldone\n",
      "\u001b[?25hBuilding wheels for collected packages: fpdf\n",
      "  Building wheel for fpdf (setup.py) ... \u001b[?25ldone\n",
      "\u001b[?25h  Created wheel for fpdf: filename=fpdf-1.7.2-py2.py3-none-any.whl size=40704 sha256=90dac6980d0c76e75e3dfb6b0ae272254947c38b24b4d0fd33c1fe473666c6c1\n",
      "  Stored in directory: /home/hamza/.cache/pip/wheels/44/35/8b/86ce00cec7e4d13c5f189680ae0fa82f919bedc066c2cddae9\n",
      "Successfully built fpdf\n",
      "Installing collected packages: fpdf\n",
      "Successfully installed fpdf-1.7.2\n"
     ]
    }
   ],
   "source": [
    "!pip install fpdf\n"
   ]
  },
  {
   "cell_type": "code",
   "execution_count": 26,
   "metadata": {},
   "outputs": [
    {
     "name": "stdout",
     "output_type": "stream",
     "text": [
      "PDF saved as 'text_to_pdf.pdf'\n"
     ]
    }
   ],
   "source": [
    "from reportlab.lib.pagesizes import letter\n",
    "from reportlab.platypus import SimpleDocTemplate, Paragraph\n",
    "from reportlab.lib.styles import getSampleStyleSheet\n",
    "\n",
    "# Function to convert text to PDF\n",
    "def text_to_pdf(text, output_filename):\n",
    "    # Create a PDF document\n",
    "    pdf = SimpleDocTemplate(output_filename, pagesize=letter)\n",
    "    \n",
    "    # Create a list of paragraphs\n",
    "    styles = getSampleStyleSheet()\n",
    "    paragraphs = [Paragraph(text, styles[\"Normal\"])]\n",
    "    \n",
    "    # Add paragraphs to the PDF document\n",
    "    pdf.build(paragraphs)\n",
    "\n",
    "# Sample text\n",
    "sample_text = res.content\n",
    "\n",
    "# Convert text to PDF\n",
    "output_filename = \"summary.pdf\"\n",
    "text_to_pdf(sample_text, output_filename)\n",
    "\n",
    "print(f\"PDF saved as '{output_filename}'\")\n"
   ]
  },
  {
   "cell_type": "code",
   "execution_count": null,
   "metadata": {},
   "outputs": [],
   "source": []
  }
 ],
 "metadata": {
  "kernelspec": {
   "display_name": "chatbot",
   "language": "python",
   "name": "python3"
  },
  "language_info": {
   "codemirror_mode": {
    "name": "ipython",
    "version": 3
   },
   "file_extension": ".py",
   "mimetype": "text/x-python",
   "name": "python",
   "nbconvert_exporter": "python",
   "pygments_lexer": "ipython3",
   "version": "3.9.19"
  }
 },
 "nbformat": 4,
 "nbformat_minor": 2
}
